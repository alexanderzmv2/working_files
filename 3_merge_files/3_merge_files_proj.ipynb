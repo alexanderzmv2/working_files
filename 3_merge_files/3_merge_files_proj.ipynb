{
 "cells": [
  {
   "cell_type": "markdown",
   "metadata": {},
   "source": [
    "### Импортируем библиотеки"
   ]
  },
  {
   "cell_type": "markdown",
   "metadata": {},
   "source": [
    "Увеличиваем ширину рабочей области на максимум"
   ]
  },
  {
   "cell_type": "code",
   "execution_count": null,
   "metadata": {},
   "outputs": [],
   "source": [
    "from IPython.display import display, HTML\n",
    "display(HTML(\"<style>.container { width:90% !important; }</style>\"))"
   ]
  },
  {
   "cell_type": "code",
   "execution_count": null,
   "metadata": {},
   "outputs": [],
   "source": [
    "import pandas as pd\n",
    "import os"
   ]
  },
  {
   "cell_type": "markdown",
   "metadata": {},
   "source": [
    "### Функция для объединения файлов прогнозов"
   ]
  },
  {
   "cell_type": "code",
   "execution_count": null,
   "metadata": {},
   "outputs": [],
   "source": [
    "#Функция объединения, содержащее только необходимые столбцы прогнозных шаблонов для загрузки в дашборд\n",
    "def merging_files_dsh(dir_in, dir_out, file_name):\n",
    "    #dir_in - расположение файлов прогнозов\n",
    "    #dir_out - куда сохраняем итоговые файл\n",
    "    #file_name - наименование итогового файла\n",
    "    #cols_v = ['ФП.1','MIR-код','ПФМ','Программа бюджета','1КВ','2КВ','3КВ','4КВ'] #учитываемые столбцы в прогнозных файлах, ФП.1 т.к. pandas воспринимаем первый столбец как индексный, и атвоматом создается ФП.1 уже со значениями\n",
    "    cols_v = ['ФП.1','MIR-код','ПФМ','Программа бюджета','Срез','1КВ','2КВ','3КВ','4КВ']\n",
    "    df_ttl = pd.DataFrame() # пустой датафрейм для итоговой вствки\n",
    "    for entry in os.scandir(dir_in): #перебираем все файлы в папке\n",
    "        if entry.is_file() and entry.name.endswith('.xlsx'): #если файлы соответствуют условию, то учитываем\n",
    "            print(entry.path)\n",
    "            #читаем книгу\n",
    "            df = pd.read_excel(open(entry.path,'rb'), sheet_name='Отчет',engine='openpyxl', header=1, index_col = None, usecols=cols_v).rename(columns={'ФП.1':'ФП'})  \n",
    "            #удаляем все строки не относящиеся к факту (без аналитик и итоговые строки)\n",
    "            df = df[(df['Срез']=='Факт 22/Прогноз') & (df['ФП'].str.contains('9_')==False)].reset_index(drop=True)\n",
    "            #если итоговая таблица пустая, значит это первая итерация и сохраняем первый df, если второй то добавляем к нему доп. дф\n",
    "            if df_ttl.empty:\n",
    "                df_ttl = df\n",
    "            else:\n",
    "                df_ttl = pd.concat([df_ttl, df])\n",
    "            #очищаем df\n",
    "            df = None\n",
    "    #разворачиваем колонки в строки\n",
    "    df_ttl = df_ttl.melt(id_vars=['ФП','MIR-код','ПФМ','Программа бюджета'], value_vars=['1КВ', '2КВ','3КВ','4КВ'], var_name = 'quarter',value_name='amount')\n",
    "    #оставляем в столбце квартала только цифру\n",
    "    df_ttl['quarter'] = df_ttl['quarter'].str.extract('(\\d+)')\n",
    "    #удаляем из файла строки, которые пустые в сумме\n",
    "    df_ttl = df_ttl[df_ttl['amount'] != 0].dropna(subset=['amount'])\n",
    "    #сохраняем\n",
    "    df_ttl.to_excel(dir_out + '\\\\' + file_name + '_dsh.xlsx', sheet_name = 'Отчет', encoding = 'windows-1251', index = False)\n",
    "    #return df_ttl"
   ]
  },
  {
   "cell_type": "code",
   "execution_count": null,
   "metadata": {},
   "outputs": [],
   "source": [
    "#Функция объединения, содержащее расширенный набор столбцов (из справочников) прогнозных шаблонов для анализа. Используется при необходимости\n",
    "def merging_files_full(dir_in, dir_out, file_name):\n",
    "    #dir_in - расположение файлов прогнозов\n",
    "    #dir_out - куда сохраняем итоговые файл\n",
    "    #file_name - наименование итогового файла\n",
    "    #cols_v = ['ФП.1','MIR-код','ПФМ','Программа бюджета','1КВ','2КВ','3КВ','4КВ'] #учитываемые столбцы в прогнозных файлах, ФП.1 т.к. pandas воспринимаем первый столбец как индексный, и атвоматом создается ФП.1 уже со значениями\n",
    "    cols_v = ['ФП.1','Наим ФП','MIR-код','ПФМ','Программа бюджета','Наим программы бюджета','Филиал','АУР/КВ','Срез','ГО/Сеть','1КВ','2КВ','3КВ','4КВ']\n",
    "    df_ttl = pd.DataFrame() # пустой датафрейм для итоговой вствки\n",
    "    for entry in os.scandir(dir_in): #перебираем все файлы в папке\n",
    "        if entry.is_file() and entry.name.endswith('.xlsx'): #если файлы соответствуют условию, то учитываем\n",
    "            print(entry.path)\n",
    "            #читаем книгу\n",
    "            df = pd.read_excel(open(entry.path,'rb'), sheet_name='Отчет',engine='openpyxl', header=1, index_col = None, usecols=cols_v).rename(columns={'ФП.1':'ФП'})  \n",
    "            #удаляем все строки не относящиеся к факту (без аналитик и итоговые строки)\n",
    "            df = df[(df['Срез'].str.contains('П-Б|П/Б')==False) & (df['ФП'].str.contains('9_')==False)].reset_index(drop=True)\n",
    "            #если итоговая таблица пустая, значит это первая итерация и сохраняем первый df, если второй то добавляем к нему доп. дф\n",
    "            if df_ttl.empty:\n",
    "                df_ttl = df\n",
    "            else:\n",
    "                df_ttl = pd.concat([df_ttl, df])\n",
    "            #очищаем df\n",
    "            df = None\n",
    "    #разворачиваем колонки в строки\n",
    "    df_ttl = df_ttl.melt(id_vars=['ФП','Наим ФП','MIR-код','ПФМ','Программа бюджета','Наим программы бюджета','Филиал','АУР/КВ','Срез','ГО/Сеть'], value_vars=['1КВ', '2КВ','3КВ','4КВ'], var_name = 'quarter',value_name='amount')\n",
    "    #оставляем в столбце квартала только цифру\n",
    "    df_ttl['quarter'] = df_ttl['quarter'].str.extract('(\\d+)')\n",
    "    #удаляем из файла строки, которые пустые в сумме\n",
    "    df_ttl = df_ttl[df_ttl['amount'] != 0].dropna(subset=['amount'])\n",
    "    #сохраняем\n",
    "    df_ttl.to_excel(dir_out + '\\\\' + file_name + '_full.xlsx', sheet_name = 'Отчет', encoding = 'windows-1251', index = False)\n",
    "    #return df_ttl"
   ]
  },
  {
   "cell_type": "markdown",
   "metadata": {},
   "source": [
    "### Запускаем функцию"
   ]
  },
  {
   "cell_type": "markdown",
   "metadata": {},
   "source": [
    "Общая папка для вставки"
   ]
  },
  {
   "cell_type": "code",
   "execution_count": null,
   "metadata": {},
   "outputs": [],
   "source": [
    "# папка для вставки\n",
    "out_folder = r'\\\\*\\Прогноз\\2022'"
   ]
  },
  {
   "cell_type": "markdown",
   "metadata": {},
   "source": [
    "Данные ГО"
   ]
  },
  {
   "cell_type": "code",
   "execution_count": null,
   "metadata": {
    "scrolled": false
   },
   "outputs": [],
   "source": [
    "# папка с файлами ГО\n",
    "hq_folder = r'\\\\*\\09.2022'\n",
    "#наименование выходного файла\n",
    "period_v = '4Q-2022'\n",
    "file_v = 'Итоговый прогноз ГО за ' + period_v\n",
    "#запуск функции\n",
    "merging_files_dsh (hq_folder,out_folder,file_v)"
   ]
  },
  {
   "cell_type": "markdown",
   "metadata": {},
   "source": [
    "Данные ЦАП"
   ]
  },
  {
   "cell_type": "code",
   "execution_count": null,
   "metadata": {},
   "outputs": [],
   "source": [
    "# папка с файлами филиалов\n",
    "branches_folder = r'\\\\*'\n",
    "#наименование выходного файла\n",
    "period_v = '4Q-2022'\n",
    "file_v = 'Итоговый прогноз филиалов за ' + period_v\n",
    "#запуск функции\n",
    "merging_files_dsh (branches_folder,out_folder,file_v)"
   ]
  }
 ],
 "metadata": {
  "kernelspec": {
   "display_name": "Python 3 (ipykernel)",
   "language": "python",
   "name": "python3"
  },
  "language_info": {
   "codemirror_mode": {
    "name": "ipython",
    "version": 3
   },
   "file_extension": ".py",
   "mimetype": "text/x-python",
   "name": "python",
   "nbconvert_exporter": "python",
   "pygments_lexer": "ipython3",
   "version": "3.9.13"
  }
 },
 "nbformat": 4,
 "nbformat_minor": 4
}
